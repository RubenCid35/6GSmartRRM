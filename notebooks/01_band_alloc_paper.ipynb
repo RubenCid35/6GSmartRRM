{
  "cells": [
    {
      "cell_type": "markdown",
      "metadata": {
        "id": "39u48Lz__6zG"
      },
      "source": [
        "This notebook focus on the implementation of the following publication with\n",
        "\n",
        "* [Rate-conforming Sub-band Allocation for In-factory\n",
        "Subnetworks: A Deep Neural Network Approach](https://ieeexplore.ieee.org/stamp/stamp.jsp?tp=&arnumber=10597067)\n",
        "\n",
        "The model and hyperparameters will be modified to work with our simulation resutls."
      ]
    },
    {
      "cell_type": "code",
      "execution_count": 1,
      "metadata": {
        "id": "yQChy-8-_3As"
      },
      "outputs": [
        {
          "data": {
            "text/plain": [
              "Simulation Parameters: \n",
              "\n",
              "|                      name |                     value |\n",
              "---------------------------------------------------------\n",
              "|        num_of_subnetworks |                   20.0000 |\n",
              "|              n_subchannel |                    4.0000 |\n",
              "|             deploy_length |                   20.0000 |\n",
              "|             subnet_radius |                    1.0000 |\n",
              "|                      minD |                    0.8000 |\n",
              "|               minDistance |                    2.0000 |\n",
              "|                 bandwidth |            100000000.0000 |\n",
              "|              ch_bandwidth |             25000000.0000 |\n",
              "|                        fc |           6000000000.0000 |\n",
              "|                    lambdA |                    0.0500 |\n",
              "|                  clutType |                     dense |\n",
              "|                  clutSize |                    2.0000 |\n",
              "|                  clutDens |                    0.6000 |\n",
              "|                   shadStd |                    7.2000 |\n",
              "|                 max_power |                    1.0000 |\n",
              "|                    no_dbm |                 -174.0000 |\n",
              "|           noise_figure_db |                    5.0000 |\n",
              "|               noise_power |                    0.0000 |\n",
              "|       correlationDistance |                    5.0000 |\n",
              "---------------------------------------------------------"
            ]
          },
          "execution_count": 1,
          "metadata": {},
          "output_type": "execute_result"
        }
      ],
      "source": [
        "# simple data manipulation\n",
        "import numpy  as np\n",
        "import pandas as pd\n",
        "\n",
        "# deep learning framework\n",
        "import torch\n",
        "import torch.nn as nn\n",
        "import torch.nn.functional as F\n",
        "\n",
        "# logging results and progress\n",
        "import wandb\n",
        "import tqdm\n",
        "\n",
        "# remove warnings (remove deprecated warnings)\n",
        "import warnings\n",
        "warnings.simplefilter('ignore')\n",
        "\n",
        "# visualization of results\n",
        "import matplotlib.pyplot as plt\n",
        "from   matplotlib.ticker import MaxNLocator\n",
        "import seaborn           as sns\n",
        "\n",
        "# Graph Algorithms.\n",
        "import networkx as nx\n",
        "\n",
        "# Google Colab (many lines are removed)\n",
        "import os\n",
        "import zipfile\n",
        "# from google.colab import drive\n",
        "# from distutils.dir_util import copy_tree\n",
        "\n",
        "# wheter we are using colab or not\n",
        "COLAB: bool = False\n",
        "if not COLAB: os.chdir('..')\n",
        "\n",
        "# Simulation Settings\n",
        "from data.sim_config import SimConfig\n",
        "config = SimConfig(0, './config.ini')\n",
        "config"
      ]
    },
    {
      "cell_type": "markdown",
      "metadata": {
        "id": "-uUwi-AcSAEz"
      },
      "source": [
        "## Simulations and Information\n",
        "\n",
        "Thanks to the given scripts, we can load a group of generated simulations. They don't have any solutions (neither approximations)."
      ]
    },
    {
      "cell_type": "code",
      "execution_count": 2,
      "metadata": {
        "colab": {
          "base_uri": "https://localhost:8080/"
        },
        "id": "GSCdyrifYSoY",
        "outputId": "88ae296e-c7ee-4e0b-e080-8fde35731236"
      },
      "outputs": [],
      "source": [
        "# Moung Google Drive Code\n",
        "if COLAB:\n",
        "    # drive.mount('/content/drive')\n",
        "\n",
        "    # Move Simulations to avoid cluttering the drive folder\n",
        "    # if not os.path.exists('/content/simulations'):\n",
        "    #   os.mkdir('/content/simulations')\n",
        "\n",
        "    # if list(os.listdir('/content/simulations')) == []:\n",
        "    #   copy_tree('/content/drive/MyDrive/TFM/simulations', '/content/simulations')\n",
        "\n",
        "    # unzip all simulations\n",
        "    # print(\"Name of the already simulated data: \\n\", )\n",
        "    for zip_file in os.listdir('/content/simulations'):\n",
        "        if zip_file.endswith('.zip'):\n",
        "            print(\" ----> \" + zip_file)\n",
        "            with zipfile.ZipFile(\"/content/simulations/\" + zip_file, 'r') as zip_ref:\n",
        "                zip_ref.extractall('/content/simulations/')\n",
        "\n",
        "    SIMULATIONS_PATH: str = \"/content/simulations\"\n",
        "else:\n",
        "    if not os.path.exists('./data/simulations'):\n",
        "        os.mkdir('./data/simulations')\n",
        "    for zip_file in os.listdir('data'):\n",
        "        if zip_file.endswith('.zip'):\n",
        "            print(\" ----> \" + zip_file)\n",
        "            with zipfile.ZipFile(\"./data/\" + zip_file, 'r') as zip_ref:\n",
        "                zip_ref.extractall('./data/simulations')\n",
        "    SIMULATIONS_PATH: str = \"./data/simulations\""
      ]
    },
    {
      "cell_type": "markdown",
      "metadata": {
        "id": "l0mEEAHqZB43"
      },
      "source": [
        "## Generation of Approximate Allocations and Power"
      ]
    },
    {
      "cell_type": "code",
      "execution_count": 3,
      "metadata": {
        "id": "Kytp3uOrToQ6"
      },
      "outputs": [
        {
          "name": "stdout",
          "output_type": "stream",
          "text": [
            "location matrix shape: 100 x 20 x  2\n",
            "channel  matrix shape: 100 x  4 x 20 x 20\n"
          ]
        }
      ],
      "source": [
        "loc = np.load(SIMULATIONS_PATH + '/Location_mat.npy')\n",
        "cmg = np.load(SIMULATIONS_PATH + '/Channel_matrix_gain.npy')\n",
        "\n",
        "# for this test, we only consider some cases\n",
        "loc, cmg = loc[:100], cmg[:100]\n",
        "shape    = lambda s: \" x\".join([f\"{d:3d}\" for d in s])\n",
        "print(f\"location matrix shape: {shape(loc.shape)}\\nchannel  matrix shape: {shape(cmg.shape)}\")"
      ]
    },
    {
      "cell_type": "markdown",
      "metadata": {
        "id": "NkqvoN-hYWIM"
      },
      "source": [
        "To generate a list of initial approximations for training, we can apply [SISA](https://ieeexplore.ieee.org/stamp/stamp.jsp?tp=&arnumber=10118695) (Sequential Iterative Sub-band Allocation). This method allows us to generate almost-optimal approximations.\n",
        "\n",
        "To apply this method, we need to consider that two things:\n",
        "\n",
        "* the calculations require setting an initial transmission power. As  this is one of the proposed task, we can fix the value or setting other.\n",
        "\n",
        "* The results are a baseline. ¿Should we remove it from the table?\n",
        "\n",
        "For the initial power settings, we will fix a value, it is not necessary to know the value as it disappears in the calculations at the start. \n",
        "The algorithm will be iterated over 20 iterations."
      ]
    },
    {
      "cell_type": "code",
      "execution_count": 15,
      "metadata": {
        "id": "0yDmZrb8Ub_A"
      },
      "outputs": [],
      "source": [
        "def weighted_interference_matrix(channel_gain: np.ndarray) -> np.ndarray:\n",
        "    \"\"\"\n",
        "    Computes the weighted interference matrix W based on the channel gain matrix.\n",
        "\n",
        "    Parameters:\n",
        "    - channel_gain (np.ndarray): A (K, N, N) array representing the channel gains \n",
        "      between different nodes and subnetworks.\n",
        "\n",
        "    Returns:\n",
        "    - W (np.ndarray): A (K, N, N) matrix where W[k, i, j] represents the \n",
        "      interference weight from node i to node j in subnetwork k.\n",
        "    \"\"\"\n",
        "    # Compute direct channel gains and normalize interference\n",
        "    Hd = np.expand_dims(np.diagonal(channel_gain, 0, 1, 2), 2)\n",
        "    W  = np.where(Hd > 0, channel_gain / Hd , 0)\n",
        "    \n",
        "    #  remove self-interference\n",
        "    for k in range(W.shape[0]): np.fill_diagonal(W[k], 0)\n",
        "\n",
        "    return W\n",
        "\n",
        "def sisa_algoritm(channel_gain: np.ndarray, max_iter: int = 20) -> tuple[np.ndarray, np.ndarray]:\n",
        "    \"\"\"\n",
        "    Implements the Sequential Iterative Subband Allocation (SISA) Algorithm\n",
        "\n",
        "    The algorithm iteratively assigns each subnetwork to a subband that minimizes the sum weighted\n",
        "    interference of the whole network while ensuring a fair allocation.\n",
        "\n",
        "    Args:\n",
        "        - channel_gain (np.ndarray): A (K, N, N) array representing the channel gains.\n",
        "        - max_iter (int): The maximum number of iterations for optimization. Defaults to 20 iterations.\n",
        "\n",
        "    Returns:\n",
        "        - A (np.ndarray): An (N, ) array where A[n] represents the assignment of the subnetwork n to the subband k.\n",
        "        - F (np.ndarray): An (N x max_iter) array with a list of values of the sum interference of each step. \n",
        "    \n",
        "    Reference:\n",
        "        - [Advanced Frequency Resource Allocation for Industrial Wireless Control in 6G subnetworks](https://ieeexplore.ieee.org/document/10118695) \n",
        "    \"\"\"\n",
        "    K, N, _ = channel_gain.shape\n",
        "    \n",
        "    # inititalize inputs\n",
        "    A = np.zeros((N)   , dtype=int) # A : N -> K\n",
        "    B = np.zeros((K, N), dtype=int) # B_k : {n \\in N : A(n) = k}\n",
        "    \n",
        "    # first all networks are assigned to the same subband\n",
        "    B[0, :] = 1\n",
        "\n",
        "    W = weighted_interference_matrix(channel_gain)\n",
        "    total_interference = []\n",
        "\n",
        "    # procedure\n",
        "    for _ in range(1, max_iter + 1):\n",
        "        for n in range(N):\n",
        "            # 1. compute iteration number : not required\n",
        "            # 2. compute w_k (d) for all k\n",
        "            w_k  = np.sum(B * (W[:, n, :] + W[:, :, n]), axis = 1)\n",
        "\n",
        "            # 3. determine interim allocation A\n",
        "            A[n] = np.argmin(w_k)\n",
        "\n",
        "            # 4. determine interim allocation B based on A\n",
        "            B[:, :] = 0 # reset allocations\n",
        "            B[A, np.arange(N)] = 1\n",
        "            \n",
        "            # 5. compute sum weighted interference\n",
        "            mask = B[A, :]\n",
        "            F = np.sum(W[A[:, None], np.arange(N)[:, None], np.where(mask == 1)[1]])            \n",
        "            total_interference.append(F)\n",
        "    \n",
        "    return A, np.array(total_interference)"
      ]
    },
    {
      "cell_type": "markdown",
      "metadata": {},
      "source": [
        "```\n",
        "\n",
        "[5.49260555 0.         0.         0.        ]\n",
        "[1.07034292 0.         0.         0.        ]\n",
        "[2.29521014 0.         0.         0.        ]\n",
        "[49.85659328  0.          0.          0.        ]\n",
        "[0.39088826 0.         0.         0.        ]\n",
        "[0.70537804 0.         0.         0.        ]\n",
        "[3.82013518 0.         0.         0.        ]\n",
        "[0.68353751 0.         0.         0.        ]\n",
        "[0.44423408 0.         0.         0.        ]\n",
        "[0.70218191 0.         0.         0.        ]\n",
        "[1.47015893 0.         0.         0.        ]\n",
        "[0.85038697 0.         0.         0.        ]\n",
        "[1.00682202 0.         0.         0.        ]\n",
        "\n",
        "```"
      ]
    }
  ],
  "metadata": {
    "colab": {
      "provenance": []
    },
    "kernelspec": {
      "display_name": "rrm-g6-311",
      "language": "python",
      "name": "python3"
    },
    "language_info": {
      "codemirror_mode": {
        "name": "ipython",
        "version": 3
      },
      "file_extension": ".py",
      "mimetype": "text/x-python",
      "name": "python",
      "nbconvert_exporter": "python",
      "pygments_lexer": "ipython3",
      "version": "3.11.11"
    }
  },
  "nbformat": 4,
  "nbformat_minor": 0
}

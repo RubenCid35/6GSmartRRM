{
 "cells": [
  {
   "cell_type": "code",
   "execution_count": 1,
   "metadata": {},
   "outputs": [
    {
     "data": {
      "text/plain": [
       "Simulation Parameters: \n",
       "\n",
       "|                      name |                     value |\n",
       "---------------------------------------------------------\n",
       "|        num_of_subnetworks |                   20.0000 |\n",
       "|              n_subchannel |                    4.0000 |\n",
       "|             deploy_length |                   20.0000 |\n",
       "|             subnet_radius |                    1.0000 |\n",
       "|                      minD |                    0.8000 |\n",
       "|               minDistance |                    2.0000 |\n",
       "|                 bandwidth |             40000000.0000 |\n",
       "|              ch_bandwidth |             10000000.0000 |\n",
       "|                        fc |           6000000000.0000 |\n",
       "|                    lambdA |                    0.0500 |\n",
       "|                  clutType |                     dense |\n",
       "|                  clutSize |                    2.0000 |\n",
       "|                  clutDens |                    0.6000 |\n",
       "|                   shadStd |                    7.2000 |\n",
       "|                 max_power |                    0.0000 |\n",
       "|                    no_dbm |                 -174.0000 |\n",
       "|           noise_figure_db |                    5.0000 |\n",
       "|               noise_power |                    0.0000 |\n",
       "|       correlationDistance |                    5.0000 |\n",
       "|            transmit_power |                    0.0010 |\n",
       "---------------------------------------------------------"
      ]
     },
     "execution_count": 1,
     "metadata": {},
     "output_type": "execute_result"
    }
   ],
   "source": [
    "# simple data manipulation\n",
    "import numpy  as np\n",
    "import pandas as pd\n",
    "\n",
    "# deep learning\n",
    "import torch\n",
    "import torch.nn as nn\n",
    "import torch.nn.functional as F\n",
    "\n",
    "# results logging\n",
    "import wandb\n",
    "\n",
    "# progress bar\n",
    "from   tqdm.notebook import tqdm, trange\n",
    "\n",
    "# remove warnings (remove deprecated warnings)\n",
    "import warnings\n",
    "warnings.simplefilter('ignore')\n",
    "\n",
    "# visualization of resultsa\n",
    "import matplotlib.pyplot as plt\n",
    "import matplotlib.gridspec as gridspec\n",
    "from   matplotlib.ticker import MaxNLocator\n",
    "import seaborn           as sns\n",
    "\n",
    "# Graph Algorithms.\n",
    "import networkx as nx\n",
    "\n",
    "# Google Colab (many lines are removed)\n",
    "import os\n",
    "import zipfile\n",
    "# from google.colab import drive\n",
    "# from distutils.dir_util import copy_tree\n",
    "\n",
    "# wheter we are using colab or not\n",
    "COLAB: bool = False\n",
    "if not COLAB and not os.path.exists('./data/simulations'): \n",
    "    os.chdir('..')\n",
    "\n",
    "# Simulation Settings\n",
    "from g6smart.sim_config import SimConfig\n",
    "from g6smart.evaluation import rate as rate_metrics\n",
    "\n",
    "config = SimConfig(0)\n",
    "config"
   ]
  },
  {
   "cell_type": "markdown",
   "metadata": {},
   "source": [
    "## Simulations and Information\n",
    "\n",
    "Thanks to the given scripts, we can load a group of generated simulations. They don't have any solutions (neither approximations)."
   ]
  },
  {
   "cell_type": "code",
   "execution_count": 2,
   "metadata": {},
   "outputs": [],
   "source": [
    "# Moung Google Drive Code\n",
    "if COLAB:\n",
    "    # drive.mount('/content/drive')\n",
    "\n",
    "    # Move Simulations to avoid cluttering the drive folder\n",
    "    # if not os.path.exists('/content/simulations'):\n",
    "    #   os.mkdir('/content/simulations')\n",
    "\n",
    "    # if list(os.listdir('/content/simulations')) == []:\n",
    "    #   copy_tree('/content/drive/MyDrive/TFM/simulations', '/content/simulations')\n",
    "\n",
    "    # unzip all simulations\n",
    "    # print(\"Name of the already simulated data: \\n\", )\n",
    "    for zip_file in os.listdir('/content/simulations'):\n",
    "        if zip_file.endswith('.zip'):\n",
    "            print(\" ----> \" + zip_file)\n",
    "            with zipfile.ZipFile(\"/content/simulations/\" + zip_file, 'r') as zip_ref:\n",
    "                zip_ref.extractall('/content/simulations/')\n",
    "\n",
    "    SIMULATIONS_PATH: str = \"/content/simulations\"\n",
    "else:\n",
    "    if not os.path.exists('./data/simulations'): os.mkdir('./data/simulations')\n",
    "    for zip_file in os.listdir('data'):\n",
    "        if zip_file.endswith('.zip'):\n",
    "            print(\" ----> \" + zip_file)\n",
    "            with zipfile.ZipFile(\"./data/\" + zip_file, 'r') as zip_ref:\n",
    "                zip_ref.extractall('./data/simulations')\n",
    "    SIMULATIONS_PATH: str = \"./data/simulations\""
   ]
  },
  {
   "cell_type": "code",
   "execution_count": 4,
   "metadata": {},
   "outputs": [
    {
     "name": "stdout",
     "output_type": "stream",
     "text": [
      "channel    matrix shape: 12000 x  4 x 20 x 20 \n",
      "allocation matrix shape: 12000 x 20\n"
     ]
    }
   ],
   "source": [
    "cmg   = np.load(SIMULATIONS_PATH + '/Channel_matrix_gain.npy')\n",
    "alloc = np.load(SIMULATIONS_PATH + '/sisa-allocation.npy')\n",
    "\n",
    "# get sample from all\n",
    "n_sample = 12_000\n",
    "cmg   = cmg[:n_sample]\n",
    "alloc = alloc[:n_sample]\n",
    "\n",
    "n_sample = cmg.shape[0]\n",
    "K, N, _  = cmg.shape[1:]\n",
    "\n",
    "shape    = lambda s: \" x\".join([f\"{d:3d}\" for d in s])\n",
    "print(f\"channel    matrix shape: {shape(cmg.shape)} \\nallocation matrix shape: {shape(alloc.shape)}\")"
   ]
  },
  {
   "cell_type": "markdown",
   "metadata": {},
   "source": [
    "## Sub-Band Assignment and Power Control for IoT Cellular Networks via Deep Learning\n",
    "\n",
    "Two-stage deep learning optimization for sub-band assignment and transmit power control in uplink IoT networks using CNNs for improved sum rate and reduced computation time."
   ]
  },
  {
   "cell_type": "code",
   "execution_count": null,
   "metadata": {},
   "outputs": [],
   "source": [
    "# First Step: Subband allocation problem\n",
    "\n",
    "class ConvBlock(nn.Module):\n",
    "    def __init__(self, )"
   ]
  }
 ],
 "metadata": {
  "kernelspec": {
   "display_name": "rrm-g6-311",
   "language": "python",
   "name": "python3"
  },
  "language_info": {
   "codemirror_mode": {
    "name": "ipython",
    "version": 3
   },
   "file_extension": ".py",
   "mimetype": "text/x-python",
   "name": "python",
   "nbconvert_exporter": "python",
   "pygments_lexer": "ipython3",
   "version": "3.11.11"
  }
 },
 "nbformat": 4,
 "nbformat_minor": 2
}
